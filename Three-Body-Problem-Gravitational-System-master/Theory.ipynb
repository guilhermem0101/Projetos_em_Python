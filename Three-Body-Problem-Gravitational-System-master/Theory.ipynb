{
 "cells": [
  {
   "cell_type": "markdown",
   "metadata": {},
   "source": [
    "# Theory: Gravitational restricted three-body system"
   ]
  },
  {
   "cell_type": "markdown",
   "metadata": {},
   "source": [
    "## Equation of motion"
   ]
  },
  {
   "cell_type": "markdown",
   "metadata": {},
   "source": [
    "The motion of the planets can computed from Newton's equations of motion. We consider two dimensional motion. For a three-body system, a set of coupled differential equations can be used to express the system.They can be expressed using vector notation. Let ${\\bf{r}} = x \\hat{i} + y \\hat{j} $. Where, $\\hat{i}$ and $\\hat{j}$ are unit vectors along x and y axis. So, the differential equation of motion of a planet is:\n",
    "\n",
    "\\begin{equation}\n",
    "\t\\label{e1}\n",
    "\t \\frac{d^2 \\bf{r}}{d t^2} = \\frac{\\bf{F}}{M_E}                   \\hspace{5cm}     (1)\n",
    "\\end{equation}"
   ]
  },
  {
   "cell_type": "markdown",
   "metadata": {},
   "source": [
    "## Dimensionless form of the differential equation\n",
    "\n",
    "We also define the following dimensionless variables\n",
    "\n",
    "\\begin{eqnarray}\n",
    "\t\\nonumber\n",
    "\t\\hat{t} &=& \\frac{t}{T}  \\\\ \\nonumber\n",
    "\t\\hat{\\bf{r}} &=& \\frac{\\bf{r}}{R}  \\\\ \\nonumber\n",
    "\t\\hat{M_E} &=& \\frac{M_E}{M}  \\\\ \\nonumber\n",
    "\t\\hat{M_S} &=& \\frac{M_S}{M}  \\\\ \\nonumber\n",
    "\t\\hat{\\bf{F}} &=& \\frac{\\bf{F}}{F^*}  \n",
    "\\end{eqnarray}\n",
    "\n",
    "We note that the derivatives can be written in terms of the dimensionless quantities as:\n",
    "\n",
    "\\begin{eqnarray}\n",
    "    \\nonumber\n",
    "\t\\frac{d \\bf{r}}{d t} &=& \\frac{R}{T}\\frac{d \\bf{\\hat{r}}}{d \\hat{t}}     \\hspace{6cm} (2) \\\\  \\nonumber\n",
    "    \\frac{d^2 \\bf{r}}{d t^2} &=& \\frac{R}{T^2} \\frac{d^2 \\bf{\\hat{r}}}{d \\hat{t}^2} \\hspace{5.5cm} (3)\n",
    "\\end{eqnarray}\n",
    "\n",
    "Substituting these values in Eq. (1), we get:\n",
    "\n",
    "\\begin{equation}\n",
    "    \\nonumber\n",
    "\t\\frac{R}{T^2} \\frac{d^2 \\bf{\\hat{r}}}{d \\hat{t}^2} = \\frac{F^*\\bf{\\hat{F}}}{\\hat{M_E} M}  \t\\hspace{5cm} (4) \\\\ \n",
    "\\end{equation}\n",
    "\n",
    "\\begin{equation}\n",
    "    \\nonumber\n",
    "\t\\frac{d^2 \\bf{\\hat{r}}}{d \\hat{t}^2} = \\frac{\\bf{\\hat{F}}}{\\hat{M_E} } \\frac{F^*T^2}{RM}         \\hspace{5cm} (5)\n",
    "\\end{equation}\n",
    "\n",
    "\n",
    "\n"
   ]
  },
  {
   "cell_type": "markdown",
   "metadata": {},
   "source": [
    "Let,\n",
    "\n",
    "\\begin{equation}\n",
    "     \\nonumber\n",
    "\t\\frac{F^*T^2}{RM} = 1 \n",
    "\\end{equation}\n",
    "\n",
    "\\begin{equation}\n",
    "\tF^* = \\frac{RM}{T^2}\n",
    "\\end{equation}\n",
    "\n",
    "So, Eq. (5) becomes:\n",
    "\n",
    "\\begin{equation}\n",
    "\t\\frac{d^2 \\bf{\\hat{r}}}{d \\hat{t}^2} = \\frac{\\bf{\\hat{F}}}{\\hat{M_E} } \\hspace{5cm} (6)\n",
    "\\end{equation}\n",
    "\n",
    "Eq. (6) is dimensionless. It can be broken down into two coupled first order equations:\n",
    "\n",
    "\\begin{equation}\n",
    "    \\nonumber\n",
    "\t\\frac{d \\bf{\\hat{r}}}{d \\hat{t}} = \\hat{\\bf{v}} \\hspace{5cm} (7) \n",
    "\\end{equation}\n",
    "    \n",
    "\\begin{equation}\n",
    "\t\\frac{d \\bf{\\hat{v}}}{d \\hat{t}} = \\frac{\\bf{\\hat{F}}}{\\hat{M_E} } \\hspace{5cm} (8)\n",
    "\\end{equation}\n",
    "\n",
    "Eq. (7) and Eq. (8) are the required dimensionless coupled first order ODEs.\n"
   ]
  },
  {
   "cell_type": "markdown",
   "metadata": {},
   "source": [
    "\n",
    "The force is given by Newton's law:\n",
    "\\begin{equation}\n",
    "     \\nonumber\n",
    "\t|{\\bf{F}}| = \\frac{GM_EM_S}{|\\bf{r}|^2} = \\frac{\\hat{M}_E \\hat{M}_S}{|\\hat{\\bf{r}}|^2}\\frac{GM^2}{R^2} \n",
    "\\end{equation}\n",
    "\n",
    "So,\n",
    "\n",
    "\n",
    "\n",
    "\\begin{equation}\n",
    "    \\nonumber\n",
    "\t|{\\bf{\\hat{F}}}| = \\frac{\\hat{M}_E \\hat{M}_S}{|\\hat{\\bf{r}}|^2}\\frac{GM^2}{R^2} \\frac{1}{F^*} \t=\\frac{\\hat{M}_E \\hat{M}_S}{|\\hat{\\bf{r}}|^2}\\frac{GM^2}{R^2} \\frac{T^2}{RM} =\\frac{\\hat{M}_E \\hat{M}_S}{|\\hat{\\bf{r}}|^2}\\frac{GMT^2}{R^3} =\\frac{\\hat{G} \\hat{M}_E \\hat{M}_S}{|\\hat{\\bf{r}}|^2}\t\n",
    "\\end{equation}\n",
    " \n",
    "\n",
    "\n",
    "\n",
    "\n",
    "where,\n",
    "\\begin{equation}\n",
    "\t\\hat{G} = \\frac{GMT^2}{R^3}\n",
    "\\end{equation}\n"
   ]
  },
  {
   "cell_type": "markdown",
   "metadata": {},
   "source": [
    "Finally, considering the direction of the force:\n",
    "\n",
    "\\begin{equation}\n",
    "    \\nonumber\n",
    "\t\\bf{F} = |\\bf{F}|\\cos(\\theta) \\hat{\\bf{i}}  + |\\bf{F}|\\sin(\\theta) \\hat{\\bf{j}}\n",
    "\\end{equation}\n",
    "\n",
    "Here,\n",
    "\\begin{equation}\n",
    "\t\\theta = \\tan^{-1}\\frac{y}{x}\n",
    "\\end{equation} \n",
    "\n",
    "\n",
    "\n",
    "The value of the normalizing constants are taken in astronomical units:\n",
    "\n",
    "\\begin{equation}\n",
    "\t\\nonumber\n",
    "\tT = 365 \\times 24\\times 60 \\times 60 \\,seconds = 1.0 \\, year \n",
    "\\end{equation}\n",
    "\\begin{equation}\n",
    "\tR = 1.5 \\times 10^{11} \\,m = 1.0 \\, AU \n",
    "\\end{equation}\n",
    "\\begin{equation}\n",
    "\tM = 6 \\times 10^{24} \\,kg = 1.0 \\, M_E\n",
    "\\end{equation}\n",
    "\n",
    "The sun is positioned at the origin and assumed to have no motion. Earth's initial position is taken as x = 1 AU and y = 0. The initial velocity is taken to be 30 km/s.\n",
    "\n"
   ]
  },
  {
   "cell_type": "code",
   "execution_count": null,
   "metadata": {},
   "outputs": [],
   "source": []
  }
 ],
 "metadata": {
  "kernelspec": {
   "display_name": "Python 2",
   "language": "python",
   "name": "python2"
  },
  "language_info": {
   "codemirror_mode": {
    "name": "ipython",
    "version": 2
   },
   "file_extension": ".py",
   "mimetype": "text/x-python",
   "name": "python",
   "nbconvert_exporter": "python",
   "pygments_lexer": "ipython2",
   "version": "2.7.14"
  }
 },
 "nbformat": 4,
 "nbformat_minor": 2
}
